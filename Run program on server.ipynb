{
 "cells": [
  {
   "cell_type": "markdown",
   "metadata": {},
   "source": [
    "### Remind me when it finishes!\n",
    "[跑完提醒](http://kkx.github.io/blog/2012/04/29/yong-python-fa-ti-xing-you-jian/)"
   ]
  },
  {
   "cell_type": "markdown",
   "metadata": {},
   "source": [
    "### Run on the back\n",
    "nohup Command [ Arg ... ] [　& ]\n",
    "[repost](http://zjking.blog.51cto.com/976858/1117828)"
   ]
  },
  {
   "cell_type": "markdown",
   "metadata": {},
   "source": [
    "### Commans\n",
    "[repost](http://www.cnblogs.com/lwm-1988/archive/2011/08/20/2147299.html)\n",
    "[repost](http://www.cnblogs.com/kaituorensheng/p/3980334.html)\n",
    "[repost](http://blog.sina.com.cn/s/blog_90546d6f0101en9y.html)"
   ]
  },
  {
   "cell_type": "code",
   "execution_count": null,
   "metadata": {
    "collapsed": true
   },
   "outputs": [],
   "source": []
  }
 ],
 "metadata": {
  "kernelspec": {
   "display_name": "Python [py36]",
   "language": "python",
   "name": "Python [py36]"
  },
  "language_info": {
   "codemirror_mode": {
    "name": "ipython",
    "version": 3
   },
   "file_extension": ".py",
   "mimetype": "text/x-python",
   "name": "python",
   "nbconvert_exporter": "python",
   "pygments_lexer": "ipython3",
   "version": "3.6.2"
  }
 },
 "nbformat": 4,
 "nbformat_minor": 2
}
