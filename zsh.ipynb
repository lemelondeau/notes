{
 "cells": [
  {
   "cell_type": "markdown",
   "metadata": {},
   "source": [
    "start zsh too [slow](https://github.com/robbyrussell/oh-my-zsh/issues/5327)"
   ]
  },
  {
   "cell_type": "markdown",
   "metadata": {},
   "source": [
    "Turns out my slowness was due to nvm being loaded on this line;\n",
    "\n",
    "```bash\n",
    "export NVM_DIR=\"$HOME/.nvm\"\n",
    ". \"$(brew --prefix nvm)/nvm.sh\"\n",
    "```\n",
    "I fixed this by using the following alias, and running loadnvm whenever I need it.\n",
    "```bash\n",
    "alias loadnvm=\". /usr/local/opt/nvm/nvm.sh\"\n",
    "```"
   ]
  },
  {
   "cell_type": "markdown",
   "metadata": {},
   "source": [
    "I had the same problem in my terminal. As a GNU/Linux user, I removed these two lines from the file .zprofile:\n",
    "```bash\n",
    "export NVM_DIR=~/.nvm\n",
    "source ~/.nvm/nvm.sh\n",
    "```\n",
    "I needed them to use jshint on Sublime Text. Recently I switched to Neovim, so I can remove them.\n",
    "\n",
    "Now the load time is about 2 seconds."
   ]
  },
  {
   "cell_type": "markdown",
   "metadata": {},
   "source": [
    "### Log\n",
    "1. 12-Feb-2018, commented nvm to make zsh starting faster. Don't know what does it do though. (https://github.com/creationix/nvm)\n",
    "   (It's for hexo)"
   ]
  },
  {
   "cell_type": "code",
   "execution_count": null,
   "metadata": {
    "collapsed": true
   },
   "outputs": [],
   "source": []
  }
 ],
 "metadata": {
  "kernelspec": {
   "display_name": "Python3",
   "language": "python",
   "name": "python3"
  },
  "language_info": {
   "codemirror_mode": {
    "name": "ipython",
    "version": 3
   },
   "file_extension": ".py",
   "mimetype": "text/x-python",
   "name": "python",
   "nbconvert_exporter": "python",
   "pygments_lexer": "ipython3",
   "version": "3.6.2"
  }
 },
 "nbformat": 4,
 "nbformat_minor": 2
}
